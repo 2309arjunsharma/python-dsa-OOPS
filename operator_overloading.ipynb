{
 "cells": [
  {
   "cell_type": "markdown",
   "id": "c33af28e",
   "metadata": {},
   "source": [
    "## Operator Overloading\n",
    "Operator overloading allows you to define the behavior of operators(+,-,*,etc.) for custom objects. You achieve this by overriding specific magic methods in your class."
   ]
  },
  {
   "cell_type": "markdown",
   "id": "2a1e1efc",
   "metadata": {},
   "source": [
    "## Common Operator Overloading Magic methods\n",
    "1. \"___add___\" (self,other): Adds two objects using the __+ operator__.\n",
    "2. \"___sub___\" (self,other): Subtracts two objects using the __- operator__.\n",
    "3. \"___mul___\" (self,other): Multiplies two objects using the __* operator__\n",
    "4. \"___truediv___\" (self,other): Divides two objects using __/ operator__.\n",
    "5. \"\"___eq___\"\" (self,other): Checks if two objects are equal using the __== operator__.\n",
    "6. \"___lt___\" (self,other): Checks if one objects is less than anothe using the __> operator__.\n"
   ]
  },
  {
   "cell_type": "code",
   "execution_count": 1,
   "id": "9eea2c25",
   "metadata": {},
   "outputs": [
    {
     "data": {
      "text/plain": [
       "2"
      ]
     },
     "execution_count": 1,
     "metadata": {},
     "output_type": "execute_result"
    }
   ],
   "source": [
    "1+1"
   ]
  },
  {
   "cell_type": "code",
   "execution_count": 2,
   "id": "129b0ec3",
   "metadata": {},
   "outputs": [
    {
     "data": {
      "text/plain": [
       "True"
      ]
     },
     "execution_count": 2,
     "metadata": {},
     "output_type": "execute_result"
    }
   ],
   "source": [
    "12>6"
   ]
  },
  {
   "cell_type": "code",
   "execution_count": 6,
   "id": "e0d163ee",
   "metadata": {},
   "outputs": [
    {
     "name": "stdout",
     "output_type": "stream",
     "text": [
      "23.5\n"
     ]
    },
    {
     "data": {
      "text/plain": [
       "False"
      ]
     },
     "execution_count": 6,
     "metadata": {},
     "output_type": "execute_result"
    }
   ],
   "source": [
    "print(6*3+1+8-7/2)\n",
    "6*3+1+8-7/2>25"
   ]
  },
  {
   "cell_type": "code",
   "execution_count": 10,
   "id": "b30ccaf5",
   "metadata": {},
   "outputs": [
    {
     "name": "stdout",
     "output_type": "stream",
     "text": [
      "Vector(6,8)\n",
      "Vector(-2,-2)\n",
      "Vector(8,15)\n"
     ]
    }
   ],
   "source": [
    "class Vector:\n",
    "    def __init__(self,x,y):\n",
    "        self.x=x\n",
    "        self.y=y\n",
    "\n",
    "    def __add__(self,other):\n",
    "        return Vector(self.x+other.x,self.y+other.y)\n",
    "    def __sub__(self,other):\n",
    "        return Vector(self.x-other.x,self.y-other.y)\n",
    "    def __mul__(self,other):\n",
    "        return Vector(self.x*other.x,self.y*other.y)\n",
    "    def __eq__(self,other):\n",
    "        return Vector(self.x==other.x,self.y==other.y)\n",
    "    def __repr__(self):\n",
    "        return f\"Vector({self.x},{self.y})\"\n",
    "    \n",
    "v1=Vector(2,3)\n",
    "v2=Vector(4,5)\n",
    "print(v1+v2)\n",
    "print(v1-v2)\n",
    "print(v1*v2)"
   ]
  },
  {
   "cell_type": "code",
   "execution_count": 14,
   "id": "7f56f8a2",
   "metadata": {},
   "outputs": [
    {
     "name": "stdout",
     "output_type": "stream",
     "text": [
      "3+7a\n",
      "1+-1a\n",
      "-10+14a\n",
      "0.8235294117647058+-0.5882352941176471a\n",
      "False\n"
     ]
    }
   ],
   "source": [
    "class ComplexNumber:\n",
    "    def __init__(self,real,imag):\n",
    "        self.real=real\n",
    "        self.imag=imag\n",
    "    def __add__(self,other):\n",
    "        return ComplexNumber(self.real+other.real,self.imag+other.imag)\n",
    "    def __sub__(self,other):\n",
    "        return ComplexNumber(self.real-other.real,self.imag-other.imag)\n",
    "    def __mul__(self,other):\n",
    "        real_part=self.real*other.real-self.imag*other.imag\n",
    "        imag_part=self.real*other.real+self.imag*other.imag\n",
    "        return ComplexNumber(real_part,imag_part)\n",
    "    def __truediv__(self,other):\n",
    "        denominator=other.real**2+other.imag**2\n",
    "        real_part=(self.real*other.real+self.imag*other.imag)/denominator\n",
    "        imag_part=(self.real*other.real-self.imag*other.imag)/denominator\n",
    "        return ComplexNumber(real_part,imag_part)\n",
    "    def __eq__(self,other):\n",
    "        return self.real==other.real and self.imag==other.imag\n",
    "    def __repr__(self):\n",
    "        return f\"{self.real}+{self.imag}a\"\n",
    "    \n",
    "n=ComplexNumber(2,3)\n",
    "c=ComplexNumber(1,4)\n",
    "print(n+c)\n",
    "print(n-c)\n",
    "print(n*c)\n",
    "print(n/c)\n",
    "print(n==c)\n"
   ]
  }
 ],
 "metadata": {
  "kernelspec": {
   "display_name": "base",
   "language": "python",
   "name": "python3"
  },
  "language_info": {
   "codemirror_mode": {
    "name": "ipython",
    "version": 3
   },
   "file_extension": ".py",
   "mimetype": "text/x-python",
   "name": "python",
   "nbconvert_exporter": "python",
   "pygments_lexer": "ipython3",
   "version": "3.12.4"
  }
 },
 "nbformat": 4,
 "nbformat_minor": 5
}

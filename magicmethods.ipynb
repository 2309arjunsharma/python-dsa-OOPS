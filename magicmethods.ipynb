{
 "cells": [
  {
   "cell_type": "markdown",
   "id": "3608f14c",
   "metadata": {},
   "source": [
    "## Magic Methods\n",
    "Magic methods in Python, also known as dunder methods(double underscore methods), are special methods that start and end with double underscores(like __init__). These methods enable you to define the behaviour of objects for built-in operations, such as arithmetic operations,comparisions, and more"
   ]
  },
  {
   "cell_type": "markdown",
   "id": "a66ea658",
   "metadata": {},
   "source": [
    "## Magic Methods\n",
    "Magic methods are predefined methods in python that you can override to change the behavior of your objects.\n",
    "Some common magic methods include:\n",
    "1. __init__ : Initializes a new instance of a class.\n",
    "2. __str__ : Return a string representation of an object.\n",
    "3. __repr__ : Returns an official string represenation of an object.\n",
    "4. __len__ : Returns the length of an object.\n",
    "5. __getitem__ : Gets an item from a container.\n",
    "6. __setitem__ : Sets an item in a container."
   ]
  },
  {
   "cell_type": "code",
   "execution_count": 1,
   "id": "13466023",
   "metadata": {},
   "outputs": [
    {
     "data": {
      "text/plain": [
       "['__class__',\n",
       " '__delattr__',\n",
       " '__dict__',\n",
       " '__dir__',\n",
       " '__doc__',\n",
       " '__eq__',\n",
       " '__format__',\n",
       " '__ge__',\n",
       " '__getattribute__',\n",
       " '__getstate__',\n",
       " '__gt__',\n",
       " '__hash__',\n",
       " '__init__',\n",
       " '__init_subclass__',\n",
       " '__le__',\n",
       " '__lt__',\n",
       " '__module__',\n",
       " '__ne__',\n",
       " '__new__',\n",
       " '__reduce__',\n",
       " '__reduce_ex__',\n",
       " '__repr__',\n",
       " '__setattr__',\n",
       " '__sizeof__',\n",
       " '__str__',\n",
       " '__subclasshook__',\n",
       " '__weakref__']"
      ]
     },
     "execution_count": 1,
     "metadata": {},
     "output_type": "execute_result"
    }
   ],
   "source": [
    "class Person:\n",
    "    pass\n",
    "\n",
    "person=Person()\n",
    "dir(person)"
   ]
  },
  {
   "cell_type": "markdown",
   "id": "bfe0956a",
   "metadata": {},
   "source": [
    "⬆️⬆️ These results all aremagic methids"
   ]
  },
  {
   "cell_type": "code",
   "execution_count": 2,
   "id": "01b3eb97",
   "metadata": {},
   "outputs": [
    {
     "name": "stdout",
     "output_type": "stream",
     "text": [
      "<__main__.Person object at 0x000001D24212D550>\n"
     ]
    }
   ],
   "source": [
    "print(person)"
   ]
  },
  {
   "cell_type": "code",
   "execution_count": 5,
   "id": "dfcae18f",
   "metadata": {},
   "outputs": [
    {
     "name": "stdout",
     "output_type": "stream",
     "text": [
      "<__main__.Person object at 0x000001D2422612B0>\n",
      "None\n",
      "None\n",
      "None\n",
      "None\n"
     ]
    }
   ],
   "source": [
    "class Person:  \n",
    "    def __init__(self,name,age):\n",
    "        self.name=name\n",
    "        self.age=age\n",
    "\n",
    "person=Person(\"Arjun\",14)\n",
    "print(print(print(print(print(person)))))"
   ]
  },
  {
   "cell_type": "code",
   "execution_count": 8,
   "id": "2eb3c6fc",
   "metadata": {},
   "outputs": [
    {
     "name": "stdout",
     "output_type": "stream",
     "text": [
      "Arjun is 14 years old.\n",
      "Person(name=Arjun,age=14)\n"
     ]
    }
   ],
   "source": [
    "class Person:  \n",
    "    def __init__(self,name,age):\n",
    "        self.name=name\n",
    "        self.age=age\n",
    "\n",
    "    def __str__(self):\n",
    "        return f\"{self.name} is {self.age} years old.\"\n",
    "    \n",
    "    def __repr__(self):\n",
    "        return f\"Person(name={self.name},age={self.age})\"\n",
    "\n",
    "person=Person(\"Arjun\",14)\n",
    "print(person)\n",
    "print(repr(person))"
   ]
  }
 ],
 "metadata": {
  "kernelspec": {
   "display_name": "base",
   "language": "python",
   "name": "python3"
  },
  "language_info": {
   "codemirror_mode": {
    "name": "ipython",
    "version": 3
   },
   "file_extension": ".py",
   "mimetype": "text/x-python",
   "name": "python",
   "nbconvert_exporter": "python",
   "pygments_lexer": "ipython3",
   "version": "3.12.4"
  }
 },
 "nbformat": 4,
 "nbformat_minor": 5
}

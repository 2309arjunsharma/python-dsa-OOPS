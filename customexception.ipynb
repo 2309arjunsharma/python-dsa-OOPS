{
 "cells": [
  {
   "cell_type": "markdown",
   "id": "016aa983",
   "metadata": {},
   "source": [
    "## Custom exception (Raise and Throw an exception)"
   ]
  },
  {
   "cell_type": "code",
   "execution_count": 6,
   "id": "c609ed49",
   "metadata": {},
   "outputs": [],
   "source": [
    "class Error(Exception):\n",
    "    pass\n",
    "\n",
    "class dobException(Error):\n",
    "    pass"
   ]
  },
  {
   "cell_type": "code",
   "execution_count": 7,
   "id": "104cc754",
   "metadata": {},
   "outputs": [
    {
     "name": "stdout",
     "output_type": "stream",
     "text": [
      "Sorry, your age is 13, which is not within the limits (greater than 20 or less than 30)\n"
     ]
    }
   ],
   "source": [
    "year=int(input(\"Enter the year of birth: \"))\n",
    "age=2025-year\n",
    "\n",
    "try:\n",
    "    if age<=30 and age>=20:\n",
    "        print(\"Your age is valid so you can apply for the exam\")\n",
    "    else:\n",
    "        raise dobException\n",
    "except dobException:\n",
    "    print(f\"Sorry, your age is {age}, which is not within the limits (greater than 20 or less than 30)\")"
   ]
  }
 ],
 "metadata": {
  "kernelspec": {
   "display_name": "base",
   "language": "python",
   "name": "python3"
  },
  "language_info": {
   "codemirror_mode": {
    "name": "ipython",
    "version": 3
   },
   "file_extension": ".py",
   "mimetype": "text/x-python",
   "name": "python",
   "nbconvert_exporter": "python",
   "pygments_lexer": "ipython3",
   "version": "3.12.4"
  }
 },
 "nbformat": 4,
 "nbformat_minor": 5
}

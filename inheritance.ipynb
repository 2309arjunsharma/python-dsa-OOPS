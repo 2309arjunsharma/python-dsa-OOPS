{
 "cells": [
  {
   "cell_type": "code",
   "execution_count": 2,
   "id": "d06a3fa4",
   "metadata": {},
   "outputs": [],
   "source": [
    "class Car:\n",
    "    def __init__(self,windows,doors,enginetype):\n",
    "        self.windows=windows\n",
    "        self.doors=doors\n",
    "        self.enginetype=enginetype\n",
    "\n",
    "    def drive(self):\n",
    "        print(f\"The person will drive the {self.enginetype} car\")\n"
   ]
  },
  {
   "cell_type": "code",
   "execution_count": 4,
   "id": "d0df952f",
   "metadata": {},
   "outputs": [
    {
     "name": "stdout",
     "output_type": "stream",
     "text": [
      "The person will drive the petrol car\n",
      "The person will drive the electric car\n"
     ]
    }
   ],
   "source": [
    "car1=Car(4,5,\"petrol\")\n",
    "car1.drive()\n",
    "car2=Car(4,5,\"electric\")\n",
    "car2.drive()"
   ]
  },
  {
   "cell_type": "code",
   "execution_count": 8,
   "id": "e06f8f79",
   "metadata": {},
   "outputs": [],
   "source": [
    "class Tesla(Car):\n",
    "    def __init__(self, windows, doors, enginetype,is_selfdriving):\n",
    "        super().__init__(windows, doors, enginetype)\n",
    "        self.is_selfdriving=is_selfdriving\n",
    "\n",
    "    def selfdriving(self):\n",
    "        if self.is_selfdriving==True:\n",
    "            print(f\"This Tesla supports self driving\")\n",
    "        else:\n",
    "            print(f\"This Tesla does not support self driving\")\n",
    "\n"
   ]
  },
  {
   "cell_type": "code",
   "execution_count": 9,
   "id": "4090731c",
   "metadata": {},
   "outputs": [
    {
     "name": "stdout",
     "output_type": "stream",
     "text": [
      "This Tesla supports self driving\n"
     ]
    }
   ],
   "source": [
    "model_X=Tesla(4,5,\"electric\",True)\n",
    "model_X.selfdriving()"
   ]
  },
  {
   "cell_type": "code",
   "execution_count": 12,
   "id": "c82fc4fd",
   "metadata": {},
   "outputs": [
    {
     "name": "stdout",
     "output_type": "stream",
     "text": [
      "Buddy says woof woof\n",
      "Buddy's owner is Arjun\n"
     ]
    }
   ],
   "source": [
    "##Base class 1\n",
    "class Animal:\n",
    "    def __init__(self,name):\n",
    "        self.name=name\n",
    "\n",
    "    def speak(self):\n",
    "        print(\"Subclass must implement this method\")\n",
    "\n",
    "##Base class 2\n",
    "class Pet:\n",
    "    def __init__(self,owner):\n",
    "        self.owner=owner\n",
    "\n",
    "class Dog(Animal,Pet):\n",
    "    def __init__(self, name,owner):\n",
    "        Animal.__init__(self,name)\n",
    "        Pet.__init__(self,owner)\n",
    "\n",
    "    def speak(self):\n",
    "        return f\"{self.name} says woof woof\"\n",
    "##Derived class \n",
    "dog=Dog(\"Buddy\",\"Arjun\")\n",
    "print(dog.speak())\n",
    "      \n",
    "print(f\"{dog.name}'s owner is {dog.owner}\")"
   ]
  }
 ],
 "metadata": {
  "kernelspec": {
   "display_name": "base",
   "language": "python",
   "name": "python3"
  },
  "language_info": {
   "codemirror_mode": {
    "name": "ipython",
    "version": 3
   },
   "file_extension": ".py",
   "mimetype": "text/x-python",
   "name": "python",
   "nbconvert_exporter": "python",
   "pygments_lexer": "ipython3",
   "version": "3.12.4"
  }
 },
 "nbformat": 4,
 "nbformat_minor": 5
}
